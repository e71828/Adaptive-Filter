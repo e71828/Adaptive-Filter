{
  "nbformat": 4,
  "nbformat_minor": 0,
  "metadata": {
    "colab": {
      "name": "Wiener.ipynb",
      "provenance": [],
      "collapsed_sections": [],
      "authorship_tag": "ABX9TyOH6b2NVZxCPFrzK9gHNjZN",
      "include_colab_link": true
    },
    "kernelspec": {
      "name": "python3",
      "display_name": "Python 3"
    },
    "language_info": {
      "name": "python"
    }
  },
  "cells": [
    {
      "cell_type": "markdown",
      "metadata": {
        "id": "view-in-github",
        "colab_type": "text"
      },
      "source": [
        "<a href=\"https://colab.research.google.com/github/e71828/Adaptive-Filter/blob/main/Chapter2.ipynb\" target=\"_parent\"><img src=\"https://colab.research.google.com/assets/colab-badge.svg\" alt=\"Open In Colab\"/></a>"
      ]
    },
    {
      "cell_type": "code",
      "execution_count": null,
      "metadata": {
        "id": "c7obSYTlfya7"
      },
      "outputs": [],
      "source": [
        "import numpy as np\n",
        "from scipy import linalg\n",
        "np.set_printoptions(precision=5, suppress=True)"
      ]
    },
    {
      "cell_type": "code",
      "source": [
        "Ra = 1/4*np.asarray(linalg.toeplitz([4,3,2,1]))\n",
        "pa = np.array([1/2, 3/8, 2/8, 1/8])\n",
        "R = [Ra]\n",
        "p = [pa]\n",
        "\n",
        "Rb = np.asarray(linalg.toeplitz([1,0.8,0.64,0.512]))\n",
        "pb = 1/4*np.array([0.4096, 0.512, 0.64, 0.8])\n",
        "R.append(Rb)\n",
        "p.append(pb)\n",
        "\n",
        "Rc = 1/3*np.asarray(linalg.toeplitz([3, -2, 1]))\n",
        "pc = np.array([-2,1,-1/2])\n",
        "R.append(Rc)\n",
        "p.append(pc)\n",
        "\n",
        "for Ra,pa in zip(R,p):\n",
        "    print(Ra)\n",
        "    print('--------------')\n",
        "    print(pa)\n",
        "    print('--------------')"
      ],
      "metadata": {
        "colab": {
          "base_uri": "https://localhost:8080/"
        },
        "id": "I1UZMhS_rsvT",
        "outputId": "6c48474f-81ef-45dd-bbdd-9134ce7eaf18"
      },
      "execution_count": null,
      "outputs": [
        {
          "output_type": "stream",
          "name": "stdout",
          "text": [
            "[[1.   0.75 0.5  0.25]\n",
            " [0.75 1.   0.75 0.5 ]\n",
            " [0.5  0.75 1.   0.75]\n",
            " [0.25 0.5  0.75 1.  ]]\n",
            "--------------\n",
            "[0.5   0.375 0.25  0.125]\n",
            "--------------\n",
            "[[1.    0.8   0.64  0.512]\n",
            " [0.8   1.    0.8   0.64 ]\n",
            " [0.64  0.8   1.    0.8  ]\n",
            " [0.512 0.64  0.8   1.   ]]\n",
            "--------------\n",
            "[0.1024 0.128  0.16   0.2   ]\n",
            "--------------\n",
            "[[ 1.      -0.66667  0.33333]\n",
            " [-0.66667  1.      -0.66667]\n",
            " [ 0.33333 -0.66667  1.     ]]\n",
            "--------------\n",
            "[-2.   1.  -0.5]\n",
            "--------------\n"
          ]
        }
      ]
    },
    {
      "cell_type": "code",
      "source": [
        "## Wiener solution\n",
        "w0 = []\n",
        "for Ra,pa in zip(R,p):\n",
        "    wa = linalg.inv(Ra)@pa\n",
        "    w0.append(wa)\n",
        "print(w0)"
      ],
      "metadata": {
        "colab": {
          "base_uri": "https://localhost:8080/"
        },
        "id": "QF9yp_Xh6kFG",
        "outputId": "3c984d53-8446-4fa4-ccf8-5f2ca80b107a"
      },
      "execution_count": null,
      "outputs": [
        {
          "output_type": "stream",
          "name": "stdout",
          "text": [
            "[array([0.5, 0. , 0. , 0. ]), array([0. , 0. , 0. , 0.2]), array([-2.4375, -0.75  , -0.1875])]\n"
          ]
        }
      ]
    },
    {
      "cell_type": "code",
      "source": [
        "lmax = []\n",
        "for Ra in R:\n",
        "    D,V = linalg.eig(Ra)\n",
        "    print(D)\n",
        "    print(max(D))\n",
        "    lmax.append(max(D))"
      ],
      "metadata": {
        "id": "KtYcOzRu_M7D",
        "colab": {
          "base_uri": "https://localhost:8080/"
        },
        "outputId": "9f5aa70c-e09a-467c-f77c-11caa5bbe93d"
      },
      "execution_count": null,
      "outputs": [
        {
          "output_type": "stream",
          "name": "stdout",
          "text": [
            "[2.77475+0.j 0.85355+0.j 0.22525+0.j 0.14645+0.j]\n",
            "(2.774754878398196+0j)\n",
            "[3.10318+0.j 0.55926+0.j 0.20882+0.j 0.12874+0.j]\n",
            "(3.10318208944141+0j)\n",
            "[2.12409+0.j 0.66667+0.j 0.20924+0.j]\n",
            "(2.124093774423005+0j)\n"
          ]
        }
      ]
    },
    {
      "cell_type": "code",
      "source": [
        "def Gradient_Descent(pa, Ra, mu=1/5):\n",
        "    w0 = np.zeros(pa.shape)\n",
        "    g = -2*pa + 2*Ra @ w0\n",
        "    while(linalg.norm(g)> 1e-5):\n",
        "        w1 = w0 - mu*g\n",
        "        w0 = w1\n",
        "        g = -2*pa + 2*Ra @ w0\n",
        "    return w0"
      ],
      "metadata": {
        "id": "AT3Q4A6c9jqi"
      },
      "execution_count": null,
      "outputs": []
    },
    {
      "cell_type": "code",
      "source": [
        "for Ra,pa in zip(R,p):\n",
        "    w0 = Gradient_Descent(pa, Ra)\n",
        "    print(w0)"
      ],
      "metadata": {
        "colab": {
          "base_uri": "https://localhost:8080/"
        },
        "id": "wOPOrXuR67ru",
        "outputId": "85b2a4fc-f691-40a0-8d81-0f3b731834a6"
      },
      "execution_count": null,
      "outputs": [
        {
          "output_type": "stream",
          "name": "stdout",
          "text": [
            "[ 0.49999  0.00002 -0.00002  0.00001]\n",
            "[ 0.00001 -0.00002  0.00002  0.19999]\n",
            "[-2.43749 -0.74998 -0.18749]\n"
          ]
        }
      ]
    }
  ]
}