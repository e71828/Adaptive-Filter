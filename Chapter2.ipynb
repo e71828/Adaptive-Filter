{
  "nbformat": 4,
  "nbformat_minor": 0,
  "metadata": {
    "colab": {
      "name": "Wiener.ipynb",
      "provenance": [],
      "collapsed_sections": [],
      "authorship_tag": "ABX9TyMfb7BaamkES4KZFXGsSmxm",
      "include_colab_link": true
    },
    "kernelspec": {
      "name": "python3",
      "display_name": "Python 3"
    },
    "language_info": {
      "name": "python"
    }
  },
  "cells": [
    {
      "cell_type": "markdown",
      "metadata": {
        "id": "view-in-github",
        "colab_type": "text"
      },
      "source": [
        "<a href=\"https://colab.research.google.com/github/e71828/Adaptive-Filter/blob/main/Chapter2.ipynb\" target=\"_parent\"><img src=\"https://colab.research.google.com/assets/colab-badge.svg\" alt=\"Open In Colab\"/></a>"
      ]
    },
    {
      "cell_type": "code",
      "execution_count": 34,
      "metadata": {
        "id": "c7obSYTlfya7"
      },
      "outputs": [],
      "source": [
        "import numpy as np\n",
        "from scipy import linalg\n",
        "np.set_printoptions(precision=5, suppress=True)"
      ]
    },
    {
      "cell_type": "code",
      "source": [
        "Ra = 1/4*np.asarray(linalg.toeplitz([4,3,2,1]))\n",
        "pa = np.array([1/2, 3/8, 2/8, 1/8])\n",
        "R = [Ra]\n",
        "p = [pa]\n",
        "\n",
        "Rb = np.asarray(linalg.toeplitz([1,0.8,0.64,0.512]))\n",
        "pb = 1/4*np.array([0.4096, 0.512, 0.64, 0.8])\n",
        "R.append(Rb)\n",
        "p.append(pb)\n",
        "\n",
        "Rc = 1/3*np.asarray(linalg.toeplitz([3, -2, 1]))\n",
        "pc = np.array([-2,1,-1/2])\n",
        "R.append(Rc)\n",
        "p.append(pc)\n",
        "\n",
        "for Ra,pa in zip(R,p):\n",
        "    print(\"{:=^50s}\".format(\"autocorrelation R\"))\n",
        "    print(Ra)\n",
        "    print(\"{:-^50s}\".format(\"vector p\"))\n",
        "    print(pa)"
      ],
      "metadata": {
        "colab": {
          "base_uri": "https://localhost:8080/"
        },
        "id": "I1UZMhS_rsvT",
        "outputId": "948ad423-a751-44e8-efc9-71081eddc31b"
      },
      "execution_count": 35,
      "outputs": [
        {
          "output_type": "stream",
          "name": "stdout",
          "text": [
            "================autocorrelation R=================\n",
            "[[1.   0.75 0.5  0.25]\n",
            " [0.75 1.   0.75 0.5 ]\n",
            " [0.5  0.75 1.   0.75]\n",
            " [0.25 0.5  0.75 1.  ]]\n",
            "---------------------vector p---------------------\n",
            "[0.5   0.375 0.25  0.125]\n",
            "================autocorrelation R=================\n",
            "[[1.    0.8   0.64  0.512]\n",
            " [0.8   1.    0.8   0.64 ]\n",
            " [0.64  0.8   1.    0.8  ]\n",
            " [0.512 0.64  0.8   1.   ]]\n",
            "---------------------vector p---------------------\n",
            "[0.1024 0.128  0.16   0.2   ]\n",
            "================autocorrelation R=================\n",
            "[[ 1.      -0.66667  0.33333]\n",
            " [-0.66667  1.      -0.66667]\n",
            " [ 0.33333 -0.66667  1.     ]]\n",
            "---------------------vector p---------------------\n",
            "[-2.   1.  -0.5]\n"
          ]
        }
      ]
    },
    {
      "cell_type": "code",
      "source": [
        "## Wiener solution\n",
        "w0 = []\n",
        "for Ra,pa in zip(R,p):\n",
        "    wa = linalg.inv(Ra)@pa\n",
        "    w0.append(wa)\n",
        "print(w0)"
      ],
      "metadata": {
        "colab": {
          "base_uri": "https://localhost:8080/"
        },
        "id": "QF9yp_Xh6kFG",
        "outputId": "6513af8d-5ff3-4c3f-a748-12fd6c652cf2"
      },
      "execution_count": 36,
      "outputs": [
        {
          "output_type": "stream",
          "name": "stdout",
          "text": [
            "[array([0.5, 0. , 0. , 0. ]), array([0. , 0. , 0. , 0.2]), array([-2.4375, -0.75  , -0.1875])]\n"
          ]
        }
      ]
    },
    {
      "cell_type": "code",
      "source": [
        "## lambda_max\n",
        "lmax = []\n",
        "for Ra in R:\n",
        "    D,V = linalg.eig(Ra)\n",
        "    print(D)\n",
        "    print(max(D))\n",
        "    lmax.append(max(D))"
      ],
      "metadata": {
        "id": "KtYcOzRu_M7D",
        "colab": {
          "base_uri": "https://localhost:8080/"
        },
        "outputId": "0a2f1e31-6cf6-4bb2-cbfa-1401b5e9a907"
      },
      "execution_count": 37,
      "outputs": [
        {
          "output_type": "stream",
          "name": "stdout",
          "text": [
            "[2.77475+0.j 0.85355+0.j 0.22525+0.j 0.14645+0.j]\n",
            "(2.774754878398196+0j)\n",
            "[3.10318+0.j 0.55926+0.j 0.20882+0.j 0.12874+0.j]\n",
            "(3.10318208944141+0j)\n",
            "[2.12409+0.j 0.66667+0.j 0.20924+0.j]\n",
            "(2.124093774423005+0j)\n"
          ]
        }
      ]
    },
    {
      "cell_type": "code",
      "source": [
        "def Gradient_Descent(pa, Ra, mu=1/5):\n",
        "    w0 = np.zeros(pa.shape)\n",
        "    g = -2*pa + 2*Ra @ w0\n",
        "    i = 0\n",
        "    w0_rec = [ ]\n",
        "    while(linalg.norm(g)> 1e-6):\n",
        "        w1 = w0 - mu*g\n",
        "        w0 = w1\n",
        "        g = -2*pa + 2*Ra @ w0\n",
        "        #  record the first ten iterations\n",
        "        if i<10:\n",
        "            w0_rec.append(w0)\n",
        "            i = i +1\n",
        "        else:\n",
        "            pass\n",
        "    return w0,w0_rec"
      ],
      "metadata": {
        "id": "AT3Q4A6c9jqi"
      },
      "execution_count": 38,
      "outputs": []
    },
    {
      "cell_type": "code",
      "source": [
        "from sympy.abc import sigma\n",
        "for Ra,pa in zip(R,p):\n",
        "    w0,w0_rec = Gradient_Descent(pa, Ra)\n",
        "    print(\"{:=^50s}\".format(\"New condition\"))\n",
        "    print('last: ', w0)\n",
        "    print(\"{:-^50s}\".format(\"fist ten iterations\"))\n",
        "    for w in w0_rec:\n",
        "        print(w)\n",
        "    print(\"{:-^50s}\".format(\"MSE\"))\n",
        "    epsilon = sigma**2 - w0 @ pa\n",
        "    print('epsilon_min: ', epsilon, '\\n\\n')"
      ],
      "metadata": {
        "colab": {
          "base_uri": "https://localhost:8080/"
        },
        "id": "wOPOrXuR67ru",
        "outputId": "262c831a-6215-401b-96cb-1b4b169f71ee"
      },
      "execution_count": 39,
      "outputs": [
        {
          "output_type": "stream",
          "name": "stdout",
          "text": [
            "==================New condition===================\n",
            "last:  [ 0.5  0.  -0.   0. ]\n",
            "---------------fist ten iterations----------------\n",
            "[0.2  0.15 0.1  0.05]\n",
            "[0.25 0.14 0.06 0.  ]\n",
            "[ 0.296  0.141  0.044 -0.021]\n",
            "[ 0.3286  0.1368  0.0312 -0.0336]\n",
            "[ 0.35324  0.13086  0.02204 -0.03974]\n",
            "[ 0.37225  0.12388  0.01524 -0.04195]\n",
            "[ 0.38733  0.11647  0.01012 -0.04174]\n",
            "[ 0.39961  0.109    0.00618 -0.04011]\n",
            "[ 0.40984  0.10168  0.00312 -0.03768]\n",
            "[ 0.41854  0.09466  0.0007  -0.03487]\n",
            "-----------------------MSE------------------------\n",
            "epsilon_min:  sigma**2 - 0.249999933776242 \n",
            "\n",
            "\n",
            "==================New condition===================\n",
            "last:  [ 0.  -0.   0.   0.2]\n",
            "---------------fist ten iterations----------------\n",
            "[0.04096 0.0512  0.064   0.08   ]\n",
            "[0.01638 0.02785 0.04993 0.08602]\n",
            "[0.01148 0.02467 0.05332 0.10515]\n",
            "[0.00477 0.01835 0.05151 0.11736]\n",
            "[0.00073 0.01415 0.05026 0.12826]\n",
            "[-0.00227  0.01054  0.0484   0.1371 ]\n",
            "[-0.00424  0.00767  0.04637  0.14454]\n",
            "[-0.00551  0.00532  0.04421  0.15079]\n",
            "[-0.00625  0.00341  0.04198  0.1561 ]\n",
            "[-0.00659  0.00185  0.03975  0.16063]\n",
            "-----------------------MSE------------------------\n",
            "epsilon_min:  sigma**2 - 0.0399999714806761 \n",
            "\n",
            "\n",
            "==================New condition===================\n",
            "last:  [-2.4375 -0.75   -0.1875]\n",
            "---------------fist ten iterations----------------\n",
            "[-0.8  0.4 -0.2]\n",
            "[-1.14667  0.37333 -0.10667]\n",
            "[-1.37422  0.28978 -0.01156]\n",
            "[-1.54572  0.20433  0.05357]\n",
            "[-1.68009  0.12469  0.09272]\n",
            "[-1.78716  0.05152  0.1129 ]\n",
            "[-1.87361 -0.01556  0.11976]\n",
            "[-1.94429 -0.07703  0.11752]\n",
            "[-2.00278 -0.13335  0.10921]\n",
            "[-2.05179 -0.18497  0.097  ]\n",
            "-----------------------MSE------------------------\n",
            "epsilon_min:  sigma**2 - 4.21874914595183 \n",
            "\n",
            "\n"
          ]
        }
      ]
    }
  ]
}