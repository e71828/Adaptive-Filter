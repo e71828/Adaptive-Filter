{
 "cells": [
  {
   "cell_type": "code",
   "execution_count": 1,
   "id": "30b3ca10-f229-4129-b7fc-d01ec2b6c4d4",
   "metadata": {},
   "outputs": [],
   "source": [
    "import numpy as np\n",
    "from scipy import linalg, signal\n",
    "import matplotlib.pyplot as plt\n",
    "np.set_printoptions(precision=3, suppress=True)\n",
    "plt.rcParams.update({\n",
    "    'font.family':'Times New Roman',\n",
    "    # 'text.usetex': True\n",
    "})"
   ]
  },
  {
   "cell_type": "markdown",
   "id": "3f24c109-af8e-445b-be06-c209ab6925ad",
   "metadata": {
    "tags": []
   },
   "source": [
    "## AR(1)"
   ]
  },
  {
   "cell_type": "code",
   "execution_count": 2,
   "id": "ac81ccbd-761c-4ce7-9e1d-2bc61dd8ddc8",
   "metadata": {},
   "outputs": [
    {
     "data": {
      "text/latex": [
       "$$\\frac{z^2}{-0.5 z^2 + 1.25 z - 0.5}\\quad dt = 1$$"
      ],
      "text/plain": [
       "TransferFunction(array([1., 0., 0.]), array([-0.5 ,  1.25, -0.5 ]), 1)"
      ]
     },
     "metadata": {},
     "output_type": "display_data"
    }
   ],
   "source": [
    "# tf with control\n",
    "import control\n",
    "a = -0.5\n",
    "H1 = control.tf([1, 0], [1, a], 1)\n",
    "H1inv =  control.tf([1, 0], [a ,1], 1)\n",
    "H = control.series(H1, H1inv)\n",
    "display(H)"
   ]
  },
  {
   "cell_type": "code",
   "execution_count": 3,
   "id": "1f0c468f-5dd0-489e-98a2-48242a539472",
   "metadata": {},
   "outputs": [
    {
     "data": {
      "text/latex": [
       "$\\displaystyle \\frac{z}{a z^{2} + a + z \\left(a^{2} + 1\\right)}$"
      ],
      "text/plain": [
       "z/(a*z**2 + a + z*(a**2 + 1))"
      ]
     },
     "metadata": {},
     "output_type": "display_data"
    },
    {
     "data": {
      "text/latex": [
       "$\\displaystyle 1.90575057185857 s^{2} + 0.1$"
      ],
      "text/plain": [
       "1.90575057185857*s**2 + 0.1"
      ]
     },
     "metadata": {},
     "output_type": "display_data"
    },
    {
     "data": {
      "text/latex": [
       "$\\displaystyle 1.3138244442393 s^{2}$"
      ],
      "text/plain": [
       "1.3138244442393*s**2"
      ]
     },
     "metadata": {},
     "output_type": "display_data"
    },
    {
     "data": {
      "text/latex": [
       "$\\displaystyle 0.905750571858574 s^{2}$"
      ],
      "text/plain": [
       "0.905750571858574*s**2"
      ]
     },
     "metadata": {},
     "output_type": "display_data"
    },
    {
     "data": {
      "text/latex": [
       "$\\displaystyle 0.624424444239301 s^{2}$"
      ],
      "text/plain": [
       "0.624424444239301*s**2"
      ]
     },
     "metadata": {},
     "output_type": "display_data"
    },
    {
     "data": {
      "text/latex": [
       "$\\displaystyle 0.430478211858574 s^{2}$"
      ],
      "text/plain": [
       "0.430478211858574*s**2"
      ]
     },
     "metadata": {},
     "output_type": "display_data"
    },
    {
     "data": {
      "text/latex": [
       "$\\displaystyle 0.296771679255301 s^{2}$"
      ],
      "text/plain": [
       "0.296771679255301*s**2"
      ]
     },
     "metadata": {},
     "output_type": "display_data"
    },
    {
     "data": {
      "text/latex": [
       "$\\displaystyle 0.204594395678604 s^{2}$"
      ],
      "text/plain": [
       "0.204594395678604*s**2"
      ]
     },
     "metadata": {},
     "output_type": "display_data"
    },
    {
     "data": {
      "text/latex": [
       "$\\displaystyle 0.14104737638083 s^{2}$"
      ],
      "text/plain": [
       "0.14104737638083*s**2"
      ]
     },
     "metadata": {},
     "output_type": "display_data"
    },
    {
     "name": "stdout",
     "output_type": "stream",
     "text": [
      "Generator return value: done\n"
     ]
    }
   ],
   "source": [
    "# correlation \n",
    "from sympy.abc import a, s\n",
    "aa = np.convolve(([a, 1]),[1, a])\n",
    "b = [1]\n",
    "from sympy.abc import z\n",
    "num = sum([b[q]*z**(-q) for q in range(len(b))])\n",
    "den = sum([aa[q]*z**(-q) for q in range(len(aa))])*z\n",
    "P = num/den\n",
    "from sympy.simplify import simplify\n",
    "display(simplify(P))\n",
    "P0 = simplify(P/z*(z+a)*s**2)\n",
    "\n",
    "def myitr(max):\n",
    "    n, P = 0, P0\n",
    "    while n < max:\n",
    "        if n==0:\n",
    "            yield P.subs({z: -a}).subs(a, -0.6894)+ 0.1  # measurement noise\n",
    "        else:\n",
    "            yield P.subs({z: -a}).subs(a, -0.6894)\n",
    "\n",
    "        P *= z\n",
    "        n  += 1\n",
    "    return 'done'\n",
    "\n",
    "p = myitr(8)\n",
    "while 1:\n",
    "    try:\n",
    "        display(next(p))\n",
    "    except StopIteration as e:\n",
    "        print('Generator return value:', e.value)\n",
    "        break"
   ]
  },
  {
   "cell_type": "markdown",
   "id": "e0637b16-ce9b-4904-8148-db7bab5a988d",
   "metadata": {},
   "source": [
    "## Example 3.1"
   ]
  },
  {
   "cell_type": "code",
   "execution_count": 4,
   "id": "87344b7d-1ce2-4658-8c96-e6685e22f697",
   "metadata": {},
   "outputs": [
    {
     "data": {
      "text/latex": [
       "$$\\frac{1}{z - 0.5}\\quad dt = 1$$"
      ],
      "text/plain": [
       "TransferFunction(array([1]), array([ 1. , -0.5]), 1)"
      ]
     },
     "metadata": {},
     "output_type": "display_data"
    },
    {
     "data": {
      "text/latex": [
       "$$\\frac{z}{-0.5 z + 1}\\quad dt = 1$$"
      ],
      "text/plain": [
       "TransferFunction(array([1, 0]), array([-0.5,  1. ]), 1)"
      ]
     },
     "metadata": {},
     "output_type": "display_data"
    },
    {
     "data": {
      "text/latex": [
       "$$\\frac{1}{z + 0.8}\\quad dt = 1$$"
      ],
      "text/plain": [
       "TransferFunction(array([1]), array([1. , 0.8]), 1)"
      ]
     },
     "metadata": {},
     "output_type": "display_data"
    },
    {
     "data": {
      "text/latex": [
       "$$\\frac{z}{0.8 z + 1}\\quad dt = 1$$"
      ],
      "text/plain": [
       "TransferFunction(array([1, 0]), array([0.8, 1. ]), 1)"
      ]
     },
     "metadata": {},
     "output_type": "display_data"
    },
    {
     "data": {
      "text/latex": [
       "$$\\frac{1}{z}\\quad dt = 1$$"
      ],
      "text/plain": [
       "TransferFunction(array([1]), array([1, 0]), 1)"
      ]
     },
     "metadata": {},
     "output_type": "display_data"
    },
    {
     "data": {
      "text/latex": [
       "$$\\frac{z^2}{-0.4 z^4 + 0.5 z^3 + 0.85 z^2 - 0.5 z}\\quad dt = 1$$"
      ],
      "text/plain": [
       "TransferFunction(array([1., 0., 0.]), array([-0.4 ,  0.5 ,  0.85, -0.5 ,  0.  ]), 1)"
      ]
     },
     "metadata": {},
     "output_type": "display_data"
    }
   ],
   "source": [
    "# tf with control\n",
    "import control\n",
    "Hin = control.tf([0, 1], [1, -0.5], 1)\n",
    "Hin_inv = control.tf([1, 0], [-0.5, 1], 1)\n",
    "display(Hin)\n",
    "display(Hin_inv)\n",
    "Hc =  control.tf([0, 1], [1, 0.8], 1)\n",
    "Hc_inv = control.tf([0, 1][::-1], [1, 0.8][::-1], 1)\n",
    "display(Hc)\n",
    "display(Hc_inv)\n",
    "display(control.tf([1], [1, 0], 1))\n",
    "Hdx1 = control.series(Hin, Hin_inv, Hc_inv, control.tf([1], [1, 0], 1))\n",
    "display(Hdx1)"
   ]
  },
  {
   "cell_type": "code",
   "execution_count": 5,
   "id": "6344c945-3f8e-4b0f-8ef2-9162365e598b",
   "metadata": {},
   "outputs": [
    {
     "name": "stdout",
     "output_type": "stream",
     "text": [
      "[0.0, 0.3] [0.4, 0.5, 0.7]\n",
      "[0 1 2]\n",
      "[0.4, 0.5, 0.7]\n"
     ]
    }
   ],
   "source": [
    "# remove same zeros or poles, if zero\n",
    "def findzp(zeros, poles):\n",
    "    if not isinstance(zeros, list):\n",
    "        z = zeros.tolist()\n",
    "        p = poles.tolist()\n",
    "    common = np.intersect1d(z, p)\n",
    "    while common.shape[0]:\n",
    "        for item in common:\n",
    "            z.remove(item)\n",
    "            p.remove(item)\n",
    "        common = np.intersect1d(z, p)\n",
    "    return z,p\n",
    "\n",
    "# test function\n",
    "zeros = np.array([.0, .0, .3, .5, .5, .6, .6])\n",
    "poles = np.array([.0, .5, .5, .4, .5, .7, .6, .6])\n",
    "# den = np.array([.1, .2, .4, .7, .7, .7, .7, .7, .9])\n",
    "zeros,poles = findzp(zeros, poles)\n",
    "print(zeros,poles)\n",
    "pi = np.squeeze(np.argwhere(abs(np.asarray(poles)) <1), axis=1)\n",
    "print(pi)\n",
    "pint = [poles[i] for i in pi]\n",
    "print(pint)"
   ]
  },
  {
   "cell_type": "code",
   "execution_count": 6,
   "id": "9a23afff-6a26-4f89-96b3-f5abc8bc3969",
   "metadata": {},
   "outputs": [],
   "source": [
    "# todo: 二级极点\n",
    "from functools import reduce\n",
    "from sympy import diff\n",
    "\n",
    "def prod(x, y):\n",
    "    return x * (z - y)\n",
    "\n",
    "def correlation_double_side(max):\n",
    "    if len(set(poles)) == len(poles):\n",
    "        pass\n",
    "    else:\n",
    "        raise FooError('order too high: must be one')\n",
    "    n = 0\n",
    "    p0 = 0\n",
    "    P0 = []\n",
    "    for index in pi:\n",
    "        pl = poles[:]\n",
    "        pl.pop(index)\n",
    "        if poles[index] == 0:\n",
    "            Pl = reduce(prod, [1] + zeros) / reduce(prod, [1] + pl)\n",
    "            Pl = diff(Pl)\n",
    "        else:\n",
    "            Pl = reduce(prod, [1] + zeros) / reduce(prod, [1] + pl) / z\n",
    "        display(simplify(Pl))\n",
    "        P0.append(Pl)\n",
    "        p0+= Pl.subs({z: poles[index]}).evalf()\n",
    "    P = P0\n",
    "    p = p0\n",
    "    while n < max:\n",
    "        yield p*k\n",
    "        p = 0\n",
    "        P = [Pl*z for Pl in P]\n",
    "        p = sum(Pl.subs({z: poles[index]}).evalf() for Pl,index in zip(P,pi))\n",
    "        n  += 1\n",
    "    return 'done'"
   ]
  },
  {
   "cell_type": "code",
   "execution_count": 7,
   "id": "049a220a-7301-49f5-9e98-44ecc6c4a312",
   "metadata": {},
   "outputs": [
    {
     "name": "stdout",
     "output_type": "stream",
     "text": [
      "[0.0] [2.0, -1.2500000000000002, 0.5] -2.5\n",
      "[2]\n",
      "[0.5]\n"
     ]
    },
    {
     "data": {
      "text/latex": [
       "$\\displaystyle \\frac{1}{\\left(z - 2.0\\right) \\left(z + 1.25\\right)}$"
      ],
      "text/plain": [
       "1/((z - 2.0)*(z + 1.25))"
      ]
     },
     "metadata": {},
     "output_type": "display_data"
    },
    {
     "name": "stdout",
     "output_type": "stream",
     "text": [
      "0.952380952380952\n",
      "0.476190476190476\n",
      "0.238095238095238\n",
      "0.119047619047619\n",
      "0.0595238095238095\n",
      "0.0297619047619048\n",
      "0.0148809523809524\n",
      "0.00744047619047619\n",
      "Generator return value: done\n"
     ]
    }
   ],
   "source": [
    "# Hdx1\n",
    "zeros, poles, k = signal.tf2zpk(Hdx1.num[0][0], Hdx1.den[0][0])\n",
    "zeros,poles = findzp(zeros, poles)\n",
    "print(zeros,poles,k)\n",
    "\n",
    "pi = np.squeeze(np.argwhere(abs(np.asarray(poles)) <1), axis=1)\n",
    "print(pi)\n",
    "pint = [poles[i] for i in pi]\n",
    "print(pint)\n",
    "\n",
    "\n",
    "p = correlation_double_side(8)\n",
    "while 1:\n",
    "    try:\n",
    "        print(next(p))\n",
    "    except StopIteration as e:\n",
    "        print('Generator return value:', e.value)\n",
    "        break"
   ]
  },
  {
   "cell_type": "code",
   "execution_count": 8,
   "id": "5925f280-1393-4a83-a145-ab0a231f27af",
   "metadata": {},
   "outputs": [
    {
     "data": {
      "text/latex": [
       "$$\\frac{z^2}{-0.4 z^4 + 0.18 z^3 + 1.25 z^2 + 0.18 z - 0.4}\\quad dt = 1$$"
      ],
      "text/plain": [
       "TransferFunction(array([1., 0., 0.]), array([-0.4 ,  0.18,  1.25,  0.18, -0.4 ]), 1)"
      ]
     },
     "metadata": {},
     "output_type": "display_data"
    },
    {
     "name": "stdout",
     "output_type": "stream",
     "text": [
      "[0.0, 0.0] [1.9999999999999947, -1.2499999999999996, -0.7999999999999995, 0.4999999999999999] -2.5\n",
      "[2 3]\n",
      "[-0.7999999999999995, 0.4999999999999999]\n"
     ]
    },
    {
     "data": {
      "text/latex": [
       "$\\displaystyle \\frac{z}{\\left(z - 1.99999999999999\\right) \\left(z - 0.5\\right) \\left(z + 1.25\\right)}$"
      ],
      "text/plain": [
       "z/((z - 1.99999999999999)*(z - 0.5)*(z + 1.25))"
      ]
     },
     "metadata": {},
     "output_type": "display_data"
    },
    {
     "data": {
      "text/latex": [
       "$\\displaystyle \\frac{z}{\\left(z - 1.99999999999999\\right) \\left(z + 0.799999999999999\\right) \\left(z + 1.25\\right)}$"
      ],
      "text/plain": [
       "z/((z - 1.99999999999999)*(z + 0.799999999999999)*(z + 1.25))"
      ]
     },
     "metadata": {},
     "output_type": "display_data"
    },
    {
     "name": "stdout",
     "output_type": "stream",
     "text": [
      "1.58730158730159\n",
      "-0.793650793650794\n",
      "0.873015873015874\n",
      "-0.579365079365079\n",
      "0.523015873015873\n",
      "-0.388650793650793\n",
      "0.325801587301587\n",
      "-0.253200793650793\n",
      "Generator return value: done\n"
     ]
    }
   ],
   "source": [
    "# Hx1x1\n",
    "Hx1x1 = control.series(Hin, Hin_inv, Hc, Hc_inv,)\n",
    "display(Hx1x1)\n",
    "\n",
    "zeros, poles, k = signal.tf2zpk(Hx1x1.num[0][0], Hx1x1.den[0][0])\n",
    "zeros,poles = findzp(zeros, poles)\n",
    "print(zeros,poles,k)\n",
    "\n",
    "pi = np.squeeze(np.argwhere(abs(np.asarray(poles)) <1), axis=1)\n",
    "print(pi)\n",
    "pint = [poles[i] for i in pi]\n",
    "print(pint)\n",
    "p = correlation_double_side(8)\n",
    "rxx = []\n",
    "while 1:\n",
    "    try:\n",
    "        rxx.append(next(p))\n",
    "        print(rxx[-1])\n",
    "    except StopIteration as e:\n",
    "        print('Generator return value:', e.value)\n",
    "        break\n",
    "rxx[0] += 0.1  # measurement noise"
   ]
  },
  {
   "cell_type": "code",
   "execution_count": 9,
   "id": "a332e160-e9b2-484f-a3eb-c08285e81382",
   "metadata": {},
   "outputs": [
    {
     "data": {
      "text/latex": [
       "$$\\frac{z}{-0.5 z^2 + 1.25 z - 0.5}\\quad dt = 1$$"
      ],
      "text/plain": [
       "TransferFunction(array([1., 0.]), array([-0.5 ,  1.25, -0.5 ]), 1)"
      ]
     },
     "metadata": {},
     "output_type": "display_data"
    },
    {
     "name": "stdout",
     "output_type": "stream",
     "text": [
      "[0.0] [2.0, 0.5] -2.0\n",
      "[1]\n",
      "[0.5]\n"
     ]
    },
    {
     "data": {
      "text/latex": [
       "$\\displaystyle \\frac{1}{z - 2.0}$"
      ],
      "text/plain": [
       "1/(z - 2.0)"
      ]
     },
     "metadata": {},
     "output_type": "display_data"
    },
    {
     "name": "stdout",
     "output_type": "stream",
     "text": [
      "1.33333333333333\n",
      "0.666666666666667\n",
      "0.333333333333333\n",
      "0.166666666666667\n",
      "0.0833333333333333\n",
      "0.0416666666666667\n",
      "0.0208333333333333\n",
      "0.0104166666666667\n",
      "Generator return value: done\n"
     ]
    }
   ],
   "source": [
    "# Hdd\n",
    "Hdd = control.series(Hin, Hin_inv,)\n",
    "display(Hdd)\n",
    "\n",
    "zeros, poles, k = signal.tf2zpk(Hdd.num[0][0], Hdd.den[0][0])\n",
    "zeros,poles = findzp(zeros, poles)\n",
    "print(zeros,poles,k)\n",
    "\n",
    "pi = np.squeeze(np.argwhere(abs(np.asarray(poles)) <1), axis=1)\n",
    "print(pi)\n",
    "pint = [poles[i] for i in pi]\n",
    "print(pint)\n",
    "p = correlation_double_side(8)\n",
    "rdd = []\n",
    "while 1:\n",
    "    try:\n",
    "        rdd.append(next(p))\n",
    "        print(rdd[-1])\n",
    "    except StopIteration as e:\n",
    "        print('Generator return value:', e.value)\n",
    "        break"
   ]
  },
  {
   "cell_type": "markdown",
   "id": "f684e2dd-e74f-4110-b6ba-9a38aa250646",
   "metadata": {},
   "source": [
    "## Problem 3.12"
   ]
  },
  {
   "cell_type": "code",
   "execution_count": 10,
   "id": "20ac8c32-775f-4dae-8bd2-092b93cec778",
   "metadata": {},
   "outputs": [
    {
     "name": "stdout",
     "output_type": "stream",
     "text": [
      "[-0.6+0.671j -0.6-0.671j]\n",
      "[ 1.04  -0.663 -0.014  0.554 -0.654]\n"
     ]
    }
   ],
   "source": [
    "# parameters, correlation by hand using closed method\n",
    "a1, a2 = 1.2, 0.81\n",
    "pi = np.pi\n",
    "r = np.sqrt(a2)\n",
    "f0 = np.arccos(-a1/(2*r))/(2*pi)\n",
    "phi = np.arctan((1-r**2)/(1+r**2)/np.tan(2*pi*f0))\n",
    "poles = r*np.exp(1j*2*pi*f0)\n",
    "print(np.asarray([poles, poles.conj()]))\n",
    "rxx = [(1+r**2)/(1-r**2)*np.sqrt(1+(1-r**2)/(1+r**2)**2/np.tan(2*pi*f0))*r**k*np.cos(2*pi*f0*k-phi)/(1-2*r**2*np.cos(4*pi*f0)+r**4) for k in range(5)]\n",
    "rxx = [rxi/rxx[0] for rxi in rxx]\n",
    "rxx[0] += 0.04\n",
    "# print(['%.3f' % r for r in rxx])\n",
    "print(np.asarray(rxx))"
   ]
  },
  {
   "cell_type": "code",
   "execution_count": 11,
   "id": "a3b6891a-4b11-4e7d-b375-f7919a411ed1",
   "metadata": {},
   "outputs": [
    {
     "name": "stdout",
     "output_type": "stream",
     "text": [
      "[0. 0.] \n",
      " [-0.741+0.828j -0.741-0.828j -0.6  +0.671j -0.6  -0.671j] \n",
      " 1.235\n",
      "1.235\n"
     ]
    }
   ],
   "source": [
    "# zeros, poles, k with tf\n",
    "a1, a2 = 1.2, 0.81\n",
    "zeros, poles, k = signal.tf2zpk([1, 0, 0], np.convolve(([1 ,a1 , a2]),[a2, a1, 1]))\n",
    "print(np.asarray(zeros), '\\n', np.asarray(poles), '\\n', '%.3f' % k)\n",
    "print('%.3f' % (1/a2,))"
   ]
  },
  {
   "cell_type": "code",
   "execution_count": 12,
   "id": "2b576a35-3939-4992-bfac-8447c39dfc1e",
   "metadata": {},
   "outputs": [
    {
     "data": {
      "text/latex": [
       "$$\\frac{z^2}{z^2 + 1.2 z + 0.81}\\quad dt = 1$$"
      ],
      "text/plain": [
       "TransferFunction(array([1, 0, 0]), array([1.  , 1.2 , 0.81]), 1)"
      ]
     },
     "metadata": {},
     "output_type": "display_data"
    },
    {
     "data": {
      "text/latex": [
       "$$\\frac{1}{0.81 z^2 + 1.2 z + 1}\\quad dt = 1$$"
      ],
      "text/plain": [
       "TransferFunction(array([1]), array([0.81, 1.2 , 1.  ]), 1)"
      ]
     },
     "metadata": {},
     "output_type": "display_data"
    },
    {
     "data": {
      "text/latex": [
       "$$\\frac{z^3 + 0.9 z^2 + 0.1 z + 0.2}{z^3}\\quad dt = 1$$"
      ],
      "text/plain": [
       "TransferFunction(array([1. , 0.9, 0.1, 0.2]), array([1, 0, 0, 0]), 1)"
      ]
     },
     "metadata": {},
     "output_type": "display_data"
    },
    {
     "data": {
      "text/latex": [
       "$$\\frac{0.2 z^3 + 0.1 z^2 + 0.9 z + 1}{1}\\quad dt = 1$$"
      ],
      "text/plain": [
       "TransferFunction(array([0.2, 0.1, 0.9, 1. ]), array([1]), 1)"
      ]
     },
     "metadata": {},
     "output_type": "display_data"
    },
    {
     "name": "stdout",
     "output_type": "stream",
     "text": [
      "[-0.6+0.671j -0.6-0.671j]\n",
      "[0.9 0.9]\n"
     ]
    }
   ],
   "source": [
    "# poles with control\n",
    "import control\n",
    "Hin = control.tf([1, 0, 0], [1 ,a1, a2], 1)\n",
    "Hin_inv = control.tf([1, 0, 0][::-1], [1 , a1, a2][::-1], 1)\n",
    "# num = [.1, .3, .0, -0.2, -0.4, -0.7, -0.4, -0.2]\n",
    "num = [1.0, 0.9, 0.1, 0.2]\n",
    "den = [1]+ [0]*(len(num)-1)\n",
    "Hfir = control.tf(num, den, 1)\n",
    "Hfir_inv = control.tf(num[::-1], den[::-1], 1)\n",
    "display(Hin)\n",
    "display(Hin_inv)\n",
    "display(Hfir)\n",
    "display(Hfir_inv)\n",
    "pole = control.pole(Hin)\n",
    "print(pole)\n",
    "print(abs(pole))"
   ]
  },
  {
   "cell_type": "code",
   "execution_count": 13,
   "id": "50583dad-5eea-473e-9261-24ed2d01e4f3",
   "metadata": {},
   "outputs": [
    {
     "data": {
      "text/latex": [
       "$$\\frac{z^2}{0.81 z^4 + 2.172 z^3 + 3.096 z^2 + 2.172 z + 0.81}\\quad dt = 1$$"
      ],
      "text/plain": [
       "TransferFunction(array([1., 0., 0.]), array([0.81 , 2.172, 3.096, 2.172, 0.81 ]), 1)"
      ]
     },
     "metadata": {},
     "output_type": "display_data"
    }
   ],
   "source": [
    "Hx1x1 = control.series(Hin, Hin_inv)\n",
    "display(Hx1x1)"
   ]
  },
  {
   "cell_type": "code",
   "execution_count": 14,
   "id": "97292dab-0c3a-442d-be37-a68e17e036a3",
   "metadata": {},
   "outputs": [
    {
     "name": "stdout",
     "output_type": "stream",
     "text": [
      "[0. 0.]\n",
      "[-0.741+0.828j -0.741-0.828j -0.6  +0.671j -0.6  -0.671j]\n",
      "[2 3]\n",
      "[(-0.5999999999999995+0.6708203932499363j), (-0.5999999999999995-0.6708203932499363j)]\n"
     ]
    },
    {
     "data": {
      "text/latex": [
       "$\\displaystyle \\frac{z}{\\left(z + 0.6 + 0.670820393249936 i\\right) \\left(z + 0.740740740740741 - 0.828173324999924 i\\right) \\left(z + 0.740740740740741 + 0.828173324999924 i\\right)}$"
      ],
      "text/plain": [
       "z/((z + 0.6 + 0.670820393249936*I)*(z + 0.740740740740741 - 0.828173324999924*I)*(z + 0.740740740740741 + 0.828173324999924*I))"
      ]
     },
     "metadata": {},
     "output_type": "display_data"
    },
    {
     "data": {
      "text/latex": [
       "$\\displaystyle \\frac{z}{\\left(z + 0.6 - 0.670820393249936 i\\right) \\left(z + 0.740740740740741 - 0.828173324999924 i\\right) \\left(z + 0.740740740740741 + 0.828173324999924 i\\right)}$"
      ],
      "text/plain": [
       "z/((z + 0.6 - 0.670820393249936*I)*(z + 0.740740740740741 - 0.828173324999924*I)*(z + 0.740740740740741 + 0.828173324999924*I))"
      ]
     },
     "metadata": {},
     "output_type": "display_data"
    },
    {
     "name": "stdout",
     "output_type": "stream",
     "text": [
      "Generator return value: done\n",
      "[1.04000000000000 -0.662983425414368 -0.0144198895027580 0.554320441988946\n",
      " -0.653504419889501 0.335205745856355 0.127091685082869 -0.424026676243090]\n"
     ]
    }
   ],
   "source": [
    "# Hx1x1\n",
    "zeros, poles, k = signal.tf2zpk(Hx1x1.num[0][0], Hx1x1.den[0][0])\n",
    "zeros,poles = findzp(zeros, poles)\n",
    "print(np.asarray(zeros))\n",
    "\n",
    "print(np.asarray(poles))\n",
    "\n",
    "pi = np.squeeze(np.argwhere(abs(np.asarray(poles)) <1), axis=1)\n",
    "print(pi)\n",
    "pint = [poles[i] for i in pi]\n",
    "print(pint)\n",
    "\n",
    "rxx = []\n",
    "p = correlation_double_side(8)\n",
    "while 1:\n",
    "    try:\n",
    "        rxx.append(next(p))\n",
    "        # print(rxx[-1])\n",
    "    except StopIteration as e:\n",
    "        print('Generator return value:', e.value)\n",
    "        break\n",
    "sigma2_x = rxx[0]  # 应当为倒数，就不改了\n",
    "rxx = [rxi/rxx[0] for rxi in rxx]\n",
    "rxx[0] +=0.04\n",
    "print(np.asarray(rxx))"
   ]
  },
  {
   "cell_type": "code",
   "execution_count": 15,
   "id": "4e70cfbe-b341-46bd-b3d0-437b4c254c54",
   "metadata": {},
   "outputs": [
    {
     "data": {
      "text/latex": [
       "$$\\frac{z^5 + 0.9 z^4 + 0.1 z^3 + 0.2 z^2}{0.81 z^7 + 2.172 z^6 + 3.096 z^5 + 2.172 z^4 + 0.81 z^3}\\quad dt = 1$$"
      ],
      "text/plain": [
       "TransferFunction(array([1. , 0.9, 0.1, 0.2, 0. , 0. ]), array([0.81 , 2.172, 3.096, 2.172, 0.81 , 0.   , 0.   , 0.   ]), 1)"
      ]
     },
     "metadata": {},
     "output_type": "display_data"
    }
   ],
   "source": [
    "Hdx1 = control.series(Hin, Hin_inv, Hfir)\n",
    "display(Hdx1)"
   ]
  },
  {
   "cell_type": "code",
   "execution_count": 16,
   "id": "4a0c1898-e57f-46f1-a883-d33a4d621125",
   "metadata": {},
   "outputs": [
    {
     "name": "stdout",
     "output_type": "stream",
     "text": [
      "[-1.  +0.j     0.05+0.444j  0.05-0.444j]\n",
      "[-0.741+0.828j -0.741-0.828j -0.6  +0.671j -0.6  -0.671j  0.   +0.j   ]\n",
      "[2 3 4]\n",
      "[(-0.5999999999999995+0.6708203932499363j), (-0.5999999999999995-0.6708203932499363j), 0j]\n"
     ]
    },
    {
     "data": {
      "text/latex": [
       "$\\displaystyle - \\frac{\\left(z + 1.0\\right) \\left(- z + 0.0500000000000001 + 0.44440972086578 i\\right) \\left(z - 0.0500000000000001 + 0.44440972086578 i\\right)}{z^{2} \\left(z + 0.6 + 0.670820393249936 i\\right) \\left(z + 0.740740740740741 - 0.828173324999924 i\\right) \\left(z + 0.740740740740741 + 0.828173324999924 i\\right)}$"
      ],
      "text/plain": [
       "-(z + 1.0)*(-z + 0.0500000000000001 + 0.44440972086578*I)*(z - 0.0500000000000001 + 0.44440972086578*I)/(z**2*(z + 0.6 + 0.670820393249936*I)*(z + 0.740740740740741 - 0.828173324999924*I)*(z + 0.740740740740741 + 0.828173324999924*I))"
      ]
     },
     "metadata": {},
     "output_type": "display_data"
    },
    {
     "data": {
      "text/latex": [
       "$\\displaystyle - \\frac{\\left(z + 1.0\\right) \\left(- z + 0.0500000000000001 + 0.44440972086578 i\\right) \\left(z - 0.0500000000000001 + 0.44440972086578 i\\right)}{z^{2} \\left(z + 0.6 - 0.670820393249936 i\\right) \\left(z + 0.740740740740741 - 0.828173324999924 i\\right) \\left(z + 0.740740740740741 + 0.828173324999924 i\\right)}$"
      ],
      "text/plain": [
       "-(z + 1.0)*(-z + 0.0500000000000001 + 0.44440972086578*I)*(z - 0.0500000000000001 + 0.44440972086578*I)/(z**2*(z + 0.6 - 0.670820393249936*I)*(z + 0.740740740740741 - 0.828173324999924*I)*(z + 0.740740740740741 + 0.828173324999924*I))"
      ]
     },
     "metadata": {},
     "output_type": "display_data"
    },
    {
     "data": {
      "text/latex": [
       "$\\displaystyle \\frac{- 1.0 z^{6} - z^{5} \\cdot \\left(1.8 + 1.11022302462516 \\cdot 10^{-16} i\\right) + z^{4} \\cdot \\left(1.10901234567901 - 2.22044604925031 \\cdot 10^{-16} i\\right) + 4.02666666666667 z^{3} + z^{2} \\cdot \\left(3.42220987654321 + 2.22044604925031 \\cdot 10^{-16} i\\right) + 0.27106172839506 z - 0.436296296296298}{1.0 z^{8} + 5.36296296296296 z^{7} + 14.8350342935528 z^{6} + z^{5} \\cdot \\left(25.8620612711477 + 1.2490009027033 \\cdot 10^{-16} i\\right) + z^{4} \\cdot \\left(30.9910123609206 + 3.23198258279768 \\cdot 10^{-16} i\\right) + z^{3} \\cdot \\left(25.8620612711477 + 4.48970992985091 \\cdot 10^{-16} i\\right) + z^{2} \\cdot \\left(14.8350342935528 + 3.14164484702989 \\cdot 10^{-16} i\\right) + z \\left(5.36296296296297 + 1.1808711936451 \\cdot 10^{-16} i\\right) + 1.0}$"
      ],
      "text/plain": [
       "(-1.0*z**6 - z**5*(1.8 + 1.11022302462516e-16*I) + z**4*(1.10901234567901 - 2.22044604925031e-16*I) + 4.02666666666667*z**3 + z**2*(3.42220987654321 + 2.22044604925031e-16*I) + 0.27106172839506*z - 0.436296296296298)/(1.0*z**8 + 5.36296296296296*z**7 + 14.8350342935528*z**6 + z**5*(25.8620612711477 + 1.2490009027033e-16*I) + z**4*(30.9910123609206 + 3.23198258279768e-16*I) + z**3*(25.8620612711477 + 4.48970992985091e-16*I) + z**2*(14.8350342935528 + 3.14164484702989e-16*I) + z*(5.36296296296297 + 1.1808711936451e-16*I) + 1.0)"
      ]
     },
     "metadata": {},
     "output_type": "display_data"
    },
    {
     "name": "stdout",
     "output_type": "stream",
     "text": [
      "Generator return value: done\n",
      "[0.512737016574588 + 1.25365208130776e-18*I 0.120244185253390\n",
      " -0.643701657458562 0.675044198895028 -0.288654696132599\n",
      " -0.200400165745853 0.474290502762428 -0.406824469060773]\n"
     ]
    }
   ],
   "source": [
    "# Hdx1\n",
    "zeros, poles, k = signal.tf2zpk(Hdx1.num[0][0], Hdx1.den[0][0])\n",
    "zeros,poles = findzp(zeros, poles)\n",
    "print(np.asarray(zeros))\n",
    "\n",
    "print(np.asarray(poles))\n",
    "\n",
    "pi = np.squeeze(np.argwhere(abs(np.asarray(poles)) <1), axis=1)\n",
    "print(pi)\n",
    "pint = [poles[i] for i in pi]\n",
    "print(pint)\n",
    "\n",
    "rdx = []\n",
    "p = correlation_double_side(8)\n",
    "while 1:\n",
    "    try:\n",
    "        rdx.append(next(p) / sigma2_x)\n",
    "        # print(rdx[-1])\n",
    "    except StopIteration as e:\n",
    "        print('Generator return value:', e.value)\n",
    "        break\n",
    "print(np.asarray(rdx))"
   ]
  },
  {
   "cell_type": "code",
   "execution_count": 17,
   "id": "6676c389-961d-419f-9298-8746a95391f4",
   "metadata": {},
   "outputs": [
    {
     "data": {
      "text/latex": [
       "$$\\frac{0.2 z^8 + 0.28 z^7 + 1.01 z^6 + 1.86 z^5 + 1.01 z^4 + 0.28 z^3 + 0.2 z^2}{0.81 z^7 + 2.172 z^6 + 3.096 z^5 + 2.172 z^4 + 0.81 z^3}\\quad dt = 1$$"
      ],
      "text/plain": [
       "TransferFunction(array([0.2 , 0.28, 1.01, 1.86, 1.01, 0.28, 0.2 , 0.  , 0.  ]), array([0.81 , 2.172, 3.096, 2.172, 0.81 , 0.   , 0.   , 0.   ]), 1)"
      ]
     },
     "metadata": {},
     "output_type": "display_data"
    }
   ],
   "source": [
    "Hdd = control.series(Hin, Hin_inv, Hfir, Hfir_inv)\n",
    "display(Hdd)"
   ]
  },
  {
   "cell_type": "code",
   "execution_count": 18,
   "id": "d6f78c5a-7d70-4084-b393-6cea914ec735",
   "metadata": {},
   "outputs": [
    {
     "name": "stdout",
     "output_type": "stream",
     "text": [
      "[ 0.25+2.222j  0.25-2.222j -1.  +0.j    -1.  -0.j     0.05+0.444j\n",
      "  0.05-0.444j]\n",
      "[-0.741+0.828j -0.741-0.828j -0.6  +0.671j -0.6  -0.671j  0.   +0.j   ]\n",
      "[2 3 4]\n",
      "[(-0.5999999999999995+0.6708203932499363j), (-0.5999999999999995-0.6708203932499363j), 0j]\n"
     ]
    },
    {
     "data": {
      "text/latex": [
       "$\\displaystyle \\frac{\\left(- z + 0.0499999999999999 + 0.444409720865779 i\\right) \\left(- z + 0.25 + 2.2220486043289 i\\right) \\left(z - 0.25 + 2.2220486043289 i\\right) \\left(z - 0.0499999999999999 + 0.444409720865779 i\\right) \\left(z + 1.0 - 5.40191057691552 \\cdot 10^{-9} i\\right) \\left(z + 1.0 + 5.40191057691552 \\cdot 10^{-9} i\\right)}{z^{2} \\left(z + 0.6 + 0.670820393249936 i\\right) \\left(z + 0.740740740740741 - 0.828173324999924 i\\right) \\left(z + 0.740740740740741 + 0.828173324999924 i\\right)}$"
      ],
      "text/plain": [
       "(-z + 0.0499999999999999 + 0.444409720865779*I)*(-z + 0.25 + 2.2220486043289*I)*(z - 0.25 + 2.2220486043289*I)*(z - 0.0499999999999999 + 0.444409720865779*I)*(z + 1.0 - 5.40191057691552e-9*I)*(z + 1.0 + 5.40191057691552e-9*I)/(z**2*(z + 0.6 + 0.670820393249936*I)*(z + 0.740740740740741 - 0.828173324999924*I)*(z + 0.740740740740741 + 0.828173324999924*I))"
      ]
     },
     "metadata": {},
     "output_type": "display_data"
    },
    {
     "data": {
      "text/latex": [
       "$\\displaystyle \\frac{\\left(- z + 0.0499999999999999 + 0.444409720865779 i\\right) \\left(- z + 0.25 + 2.2220486043289 i\\right) \\left(z - 0.25 + 2.2220486043289 i\\right) \\left(z - 0.0499999999999999 + 0.444409720865779 i\\right) \\left(z + 1.0 - 5.40191057691552 \\cdot 10^{-9} i\\right) \\left(z + 1.0 + 5.40191057691552 \\cdot 10^{-9} i\\right)}{z^{2} \\left(z + 0.6 - 0.670820393249936 i\\right) \\left(z + 0.740740740740741 - 0.828173324999924 i\\right) \\left(z + 0.740740740740741 + 0.828173324999924 i\\right)}$"
      ],
      "text/plain": [
       "(-z + 0.0499999999999999 + 0.444409720865779*I)*(-z + 0.25 + 2.2220486043289*I)*(z - 0.25 + 2.2220486043289*I)*(z - 0.0499999999999999 + 0.444409720865779*I)*(z + 1.0 - 5.40191057691552e-9*I)*(z + 1.0 + 5.40191057691552e-9*I)/(z**2*(z + 0.6 - 0.670820393249936*I)*(z + 0.740740740740741 - 0.828173324999924*I)*(z + 0.740740740740741 + 0.828173324999924*I))"
      ]
     },
     "metadata": {},
     "output_type": "display_data"
    },
    {
     "data": {
      "text/latex": [
       "$\\displaystyle \\frac{2.0 z^{9} + z^{8} \\cdot \\left(9.44444444444444 + 5.55111512312578 \\cdot 10^{-16} i\\right) + z^{7} \\cdot \\left(22.7975308641976 + 8.88178419700125 \\cdot 10^{-16} i\\right) + z^{6} \\cdot \\left(33.7027407407408 + 2.66453525910038 \\cdot 10^{-15} i\\right) + z^{5} \\cdot \\left(49.521987654321 + 3.5527136788005 \\cdot 10^{-15} i\\right) + z^{4} \\cdot \\left(65.4307777777778 - 7.105427357601 \\cdot 10^{-15} i\\right) + z^{3} \\cdot \\left(58.5674074074074 - 8.88178419700125 \\cdot 10^{-15} i\\right) + z^{2} \\cdot \\left(28.0457530864198 - 2.66453525910038 \\cdot 10^{-15} i\\right) + z \\left(2.45530864197532 - 1.33226762955019 \\cdot 10^{-15} i\\right) - 1.28148148148148 + 1.11022302462516 \\cdot 10^{-16} i}{1.0 z^{8} + 5.36296296296296 z^{7} + 14.8350342935528 z^{6} + z^{5} \\cdot \\left(25.8620612711477 + 1.2490009027033 \\cdot 10^{-16} i\\right) + z^{4} \\cdot \\left(30.9910123609206 + 3.23198258279768 \\cdot 10^{-16} i\\right) + z^{3} \\cdot \\left(25.8620612711477 + 4.48970992985091 \\cdot 10^{-16} i\\right) + z^{2} \\cdot \\left(14.8350342935528 + 3.14164484702989 \\cdot 10^{-16} i\\right) + z \\left(5.36296296296297 + 1.1808711936451 \\cdot 10^{-16} i\\right) + 1.0}$"
      ],
      "text/plain": [
       "(2.0*z**9 + z**8*(9.44444444444444 + 5.55111512312578e-16*I) + z**7*(22.7975308641976 + 8.88178419700125e-16*I) + z**6*(33.7027407407408 + 2.66453525910038e-15*I) + z**5*(49.521987654321 + 3.5527136788005e-15*I) + z**4*(65.4307777777778 - 7.105427357601e-15*I) + z**3*(58.5674074074074 - 8.88178419700125e-15*I) + z**2*(28.0457530864198 - 2.66453525910038e-15*I) + z*(2.45530864197532 - 1.33226762955019e-15*I) - 1.28148148148148 + 1.11022302462516e-16*I)/(1.0*z**8 + 5.36296296296296*z**7 + 14.8350342935528*z**6 + z**5*(25.8620612711477 + 1.2490009027033e-16*I) + z**4*(30.9910123609206 + 3.23198258279768e-16*I) + z**3*(25.8620612711477 + 4.48970992985091e-16*I) + z**2*(14.8350342935528 + 3.14164484702989e-16*I) + z*(5.36296296296297 + 1.1808711936451e-16*I) + 1.0)"
      ]
     },
     "metadata": {},
     "output_type": "display_data"
    },
    {
     "name": "stdout",
     "output_type": "stream",
     "text": [
      "Generator return value: done\n",
      "[0.734426519337016 + 3.50035785243652e-17*I -0.449313825796332\n",
      " -0.105107381215467 + 4.22684721803655e-17*I\n",
      " 0.490073056353589 - 4.22684721803655e-17*I\n",
      " -0.502950688839778 - 1.05671180450914e-17*I\n",
      " 0.206581650961327 + 4.22684721803655e-17*I\n",
      " 0.159492076806627 - 4.22684721803655e-17*I -0.358721629446627]\n"
     ]
    }
   ],
   "source": [
    "# Hdd\n",
    "zeros, poles, k = signal.tf2zpk(Hdd.num[0][0], Hdd.den[0][0])\n",
    "zeros,poles = findzp(zeros, poles)\n",
    "print(np.asarray(zeros))\n",
    "\n",
    "print(np.asarray(poles))\n",
    "\n",
    "pi = np.squeeze(np.argwhere(abs(np.asarray(poles)) <1), axis=1)\n",
    "print(pi)\n",
    "pint = [poles[i] for i in pi]\n",
    "print(pint)\n",
    "\n",
    "rdd = []\n",
    "p = correlation_double_side(8)\n",
    "while 1:\n",
    "    try:\n",
    "        rdd.append(next(p) / sigma2_x)\n",
    "    except StopIteration as e:\n",
    "        print('Generator return value:', e.value)\n",
    "        break\n",
    "print(np.real(np.asarray(rdd)))"
   ]
  }
 ],
 "metadata": {
  "kernelspec": {
   "display_name": "Python 3 (ipykernel)",
   "language": "python",
   "name": "python3"
  },
  "language_info": {
   "codemirror_mode": {
    "name": "ipython",
    "version": 3
   },
   "file_extension": ".py",
   "mimetype": "text/x-python",
   "name": "python",
   "nbconvert_exporter": "python",
   "pygments_lexer": "ipython3",
   "version": "3.8.5"
  }
 },
 "nbformat": 4,
 "nbformat_minor": 5
}
